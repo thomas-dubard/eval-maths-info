{
 "cells": [
  {
   "cell_type": "markdown",
   "metadata": {},
   "source": [
    "# Première méthode : dichotomie pure"
   ]
  },
  {
   "cell_type": "markdown",
   "metadata": {},
   "source": [
    "## Ceci est une explication de la méthode appliquée ici."
   ]
  },
  {
   "cell_type": "markdown",
   "metadata": {},
   "source": [
    "Nous introduisons d'abord les packages. "
   ]
  },
  {
   "cell_type": "code",
   "execution_count": 1,
   "metadata": {},
   "outputs": [
    {
     "name": "stdout",
     "output_type": "stream",
     "text": [
      "1.16.4\n"
     ]
    }
   ],
   "source": [
    "import numpy as np\n",
    "import matplotlib.pyplot as plt\n",
    "import math\n",
    "import time\n",
    "\n",
    "%matplotlib inline\n",
    "\n",
    "print(np.version.version)"
   ]
  },
  {
   "cell_type": "raw",
   "metadata": {},
   "source": [
    "L'idée générale de cette méthode est faire des scans verticalement et puis horizontalement dans des subdivisions choisies du plan de travail pour trouver les points de la courbe."
   ]
  },
  {
   "cell_type": "markdown",
   "metadata": {},
   "source": [
    "1. Définissons la fonction **find_seed**"
   ]
  },
  {
   "cell_type": "code",
   "execution_count": 2,
   "metadata": {},
   "outputs": [],
   "source": [
    "def find_seed(g, c = 0, esp = 2**(-26), x = 0):\n",
    "    if ((g(x, 0) - c) * (g(x, 1) - c)) > 0:  # Si on a pas de changement de position par rapport à c\n",
    "        return None\n",
    "    a, b = 0, 1\n",
    "    while abs(b - a) > esp:  # Theoriquement 26 passages au plus si esp=2**-26\n",
    "        m = (a + b) / 2\n",
    "        if ((g(x, a) - c) * (g(x, m) - c)) <= 0:  # t est dans [a, m]\n",
    "            b = m\n",
    "        else:\n",
    "            a = m\n",
    "    t = (a + b) / 2\n",
    "    return t"
   ]
  },
  {
   "cell_type": "markdown",
   "metadata": {},
   "source": [
    "Cette fonction sert à essayer de trouver une racine $t$ telle que: \n",
    "$$f(x, t) = c$$\n",
    "pour un $x$ fixé et $t \\in [0, 1]$ en utilisant la dichotomie. \n",
    "\n",
    "Avec une incertitude $\\epsilon$ qui égale à $2^{-26}$ par défaut. \n",
    "\n",
    "Elle renvoie la coordonnée de la racine trouvée. \n",
    "\n",
    "S'il n'y a pas de solution, renvoie-t-elle $None$."
   ]
  },
  {
   "cell_type": "markdown",
   "metadata": {},
   "source": [
    "2. Définissons la fonction **simple_contour**"
   ]
  },
  {
   "cell_type": "code",
   "execution_count": 3,
   "metadata": {},
   "outputs": [],
   "source": [
    "def simple_contour(f, c = 0.0, delta = 0.01):\n",
    "    abscisse = 0  # Cette variable gère la succession des couches de scan\n",
    "    x, y = [], []\n",
    "    while abscisse <= 1:\n",
    "        t = find_seed(f, c, 2**(-26), abscisse)  # Le scan se fait simplement avec find_seed\n",
    "        if t != None:\n",
    "            x.append(abscisse)\n",
    "            y.append(t)\n",
    "        abscisse += delta  # On passe au prochain scan\n",
    "    return x, y"
   ]
  },
  {
   "cell_type": "markdown",
   "metadata": {},
   "source": [
    "Cette fonction sert à essayer de tracer la courbe correpondante à l'équation: \n",
    "$$f(x, y) = c$$\n",
    "pour un $x \\in [0, 1]$ et $y \\in [0, 1]$ en utilisant la fonction **find_seed**. \n",
    "\n",
    "Avec un interval de scan $\\Delta$ qui égale à $0.01$ par défaut. \n",
    "\n",
    "Elle renvoie deux listes des coordonnées des points de la courbe trouvée. \n",
    "\n",
    "S'il n'y a pas de points, renvoie-t-elle deux listes vides."
   ]
  },
  {
   "cell_type": "markdown",
   "metadata": {},
   "source": [
    "3. Définissons la fonction **new_find_seed**"
   ]
  },
  {
   "cell_type": "markdown",
   "metadata": {},
   "source": [
    "En trvaillant pour faire des scans, nous n'avons pas adimensioné les subdivisions. Nous avons décidé d'ajouter une variable suppémentaire $Dy = [y_{1}, y_{2}]$ pour définir le domaine de travail où nous cherchons les racines de la fonction.  "
   ]
  },
  {
   "cell_type": "code",
   "execution_count": 4,
   "metadata": {},
   "outputs": [],
   "source": [
    "def new_find_seed(g, c, Dy, esp = 2**(-26), x = 0):\n",
    "    if ((g(x, Dy[0]) - c) * (g(x, Dy[1]) - c)) > 0:  # Si on a pas de changement de position par rapport à c\n",
    "        return None\n",
    "    a, b = Dy[0], Dy[1]\n",
    "    while abs(b - a) > esp:  # Theoriquement 26 passages au plus si esp=2**-26\n",
    "        m = (a + b) / 2\n",
    "        if ((g(x, a) - c) * (g(x, m) - c)) <= 0:    # t est dans [a, m]\n",
    "            b = m\n",
    "        else:\n",
    "            a = m\n",
    "    t = (a + b) / 2\n",
    "    return t"
   ]
  },
  {
   "cell_type": "markdown",
   "metadata": {},
   "source": [
    "4. Définissons la fonction **complique_contour**"
   ]
  },
  {
   "cell_type": "markdown",
   "metadata": {},
   "source": [
    "Cette fonction sert à parcourir un segment du plan verticalement et puis hornzontalement pour chercher des points. "
   ]
  },
  {
   "cell_type": "code",
   "execution_count": 5,
   "metadata": {},
   "outputs": [],
   "source": [
    "def complique_contour(f1, c1, delta1, Dx, Dy):\n",
    "    abscisse1 = Dx[0] # Cette variable gère la succession des couches de scan\n",
    "    x, y = [], []\n",
    "    while abscisse1 <= Dx[1]:\n",
    "        t = new_find_seed(f1, c1, Dy, 2**(-26),  abscisse1) # Le scan se fait simplement avec new_find_seed pour les raisons evoquees ci-dessus\n",
    "        if t != None:\n",
    "            x.append(abscisse1)\n",
    "            y.append(t)\n",
    "        abscisse1 += delta1  # On passe au prochain scan\n",
    "    \n",
    "    def finv(x, y):  # Définir une fonction pour échanger les rôles de x et y\n",
    "        return f1(y, x)\n",
    "    \n",
    "    abscisse1 = Dy[0]  # Même qu'avant\n",
    "    while abscisse1 <= Dy[1]:\n",
    "        t = new_find_seed(finv, c1, Dx, 2**(-26), abscisse1) \n",
    "        if t != None:\n",
    "            x.append(t)\n",
    "            y.append(abscisse1)\n",
    "        abscisse1 += delta1  # On passe au prochain scan\n",
    "    return x, y"
   ]
  },
  {
   "cell_type": "markdown",
   "metadata": {},
   "source": [
    "5. Définissons la fonction **contour**"
   ]
  },
  {
   "cell_type": "markdown",
   "metadata": {},
   "source": [
    "Cette fonction sert à tracer le graphe dans tous les segments de la subdivision choisie. "
   ]
  },
  {
   "cell_type": "code",
   "execution_count": 6,
   "metadata": {},
   "outputs": [],
   "source": [
    "def contour(f, cval = 0.0, xc = [0.0, 1.0], yc = [0.0, 1.0], delta = 0.01):    # Comme on a pas d'arguments sur les dimensions dans simple_contour, on va devoir la reecrire au sein de cette fonction      ###En plus c'est encore le meme probleme avec find_seed ...\n",
    "    xswap, yswap = [], []\n",
    "    # On part d'en haut à gauche\n",
    "    for i in range(len(xc) - 1):\n",
    "        for j in range(len(yc) - 1):\n",
    "            Dx, Dy = [xc[i], xc[i+1]], [yc[j], yc[j+1]]\n",
    "            x, y = complique_contour(f, cval, delta, Dx, Dy)\n",
    "            if len(x) > 0:  # Fusionner les résultats s'il existe\n",
    "                xswap.extend(x)  \n",
    "                yswap.extend(y)\n",
    "    return xswap, yswap"
   ]
  },
  {
   "cell_type": "markdown",
   "metadata": {},
   "source": [
    "## Ceci est un recueil de résultats obtenus avec cette méthode."
   ]
  },
  {
   "cell_type": "markdown",
   "metadata": {},
   "source": [
    "Ici, nous définissons la fonction à tracer: "
   ]
  },
  {
   "cell_type": "code",
   "execution_count": 7,
   "metadata": {},
   "outputs": [],
   "source": [
    "def f(x, y):\n",
    "    return 2*(math.exp(-x**2 - y**2) - math.exp(-(x-1)**2 - (y-1)**2))"
   ]
  },
  {
   "cell_type": "markdown",
   "metadata": {},
   "source": [
    "Ensuite, nous divisons le plan à plusieures subdivisions pour tracer:"
   ]
  },
  {
   "cell_type": "code",
   "execution_count": 8,
   "metadata": {},
   "outputs": [],
   "source": [
    "xa = np.arange(-2, 3.05, 0.05)  # Diviser le plan\n",
    "ya = np.arange(-1, 2.05, 0.05)"
   ]
  },
  {
   "cell_type": "markdown",
   "metadata": {},
   "source": [
    "Plusieures valeurs pour tracer: \n",
    "Et afficher le temps utilisé."
   ]
  },
  {
   "cell_type": "code",
   "execution_count": 9,
   "metadata": {},
   "outputs": [
    {
     "data": {
      "image/png": "[encoded data removed]",
      "text/plain": [
       "<Figure size 432x288 with 1 Axes>"
      ]
     },
     "metadata": {
      "needs_background": "light"
     },
     "output_type": "display_data"
    },
    {
     "name": "stdout",
     "output_type": "stream",
     "text": [
      "Time used: 6.953125\n"
     ]
    }
   ],
   "source": [
    "valrange = [-1.5, -1, -0.5, 0, 0.5, 1, 1.5] # Plusieures valeurs à tester\n",
    "xs = []  # Les résultats\n",
    "ys = []\n",
    "\n",
    "start = time.process_time()  # Calculer le temps utilisé\n",
    "\n",
    "for val in valrange: \n",
    "    tempx, tempy = contour(f, val, xa, ya)\n",
    "    xs.extend(tempx)\n",
    "    ys.extend(tempy)\n",
    "    # print(val)\n",
    "\n",
    "plt.scatter(xs, ys, c = 'blue', s = 2.)\n",
    "\n",
    "elapsed = (time.process_time() - start)  # Calculer le temps utilisé\n",
    "\n",
    "plt.xlim(xa[0], xa[-1])  # Régler les bornes d'affichage\n",
    "plt.ylim(ya[0], ya[-1])\n",
    "plt.show()  # Afficher l'image\n",
    "\n",
    "print(\"Time used:\",elapsed) "
   ]
  },
  {
   "cell_type": "markdown",
   "metadata": {},
   "source": [
    "## Ceci est un analyse de cette méthode:"
   ]
  },
  {
   "cell_type": "markdown",
   "metadata": {},
   "source": [
    "1. Difficultés rencontrées\n",
    "1. Respect de la consigne\n",
    "1. Possibilités d'amélioration"
   ]
  },
  {
   "cell_type": "markdown",
   "metadata": {},
   "source": [
    "# Deuxième méthode : Dichotomie angulaire avec gradient"
   ]
  },
  {
   "cell_type": "markdown",
   "metadata": {},
   "source": [
    "## Ceci est une explication de la méthode appliquée ici."
   ]
  },
  {
   "cell_type": "markdown",
   "metadata": {},
   "source": [
    "Nous introduisons d'abord un package supplémentaire. "
   ]
  },
  {
   "cell_type": "code",
   "execution_count": 10,
   "metadata": {},
   "outputs": [],
   "source": [
    "import autograd"
   ]
  },
  {
   "cell_type": "raw",
   "metadata": {},
   "source": [
    "Ce package permet de définir le gradient."
   ]
  },
  {
   "cell_type": "markdown",
   "metadata": {},
   "source": [
    "1. Définissons la fonction **f** pour tracer: "
   ]
  },
  {
   "cell_type": "code",
   "execution_count": 11,
   "metadata": {},
   "outputs": [],
   "source": [
    "def f(x, y):\n",
    "    return x**2 + y**2"
   ]
  },
  {
   "cell_type": "markdown",
   "metadata": {},
   "source": [
    "2. Définissons la fonction **grad_f**"
   ]
  },
  {
   "cell_type": "code",
   "execution_count": 12,
   "metadata": {},
   "outputs": [],
   "source": [
    "def grad_f(x, y):\n",
    "    g = autograd.grad\n",
    "    return np.r_[g(f, 0)(x, y), g(f, 1)(x, y)]"
   ]
  },
  {
   "cell_type": "markdown",
   "metadata": {},
   "source": [
    "Cette fonction sert à calculer le gradient selon la fonction définie au-dessus à un point $(x, y)$"
   ]
  },
  {
   "cell_type": "markdown",
   "metadata": {},
   "source": [
    "3. Définissons la fonction **find_seed**"
   ]
  },
  {
   "cell_type": "markdown",
   "metadata": {},
   "source": [
    "Cette fonction est presque la même que dans la méthode précédente. \n",
    "En outre, nous forçons les variables d'être sous forme **float** pour éviter une errur mystérieuse. "
   ]
  },
  {
   "cell_type": "code",
   "execution_count": 13,
   "metadata": {},
   "outputs": [],
   "source": [
    "def find_seed(g, c = 0, esp = 2**(-26), x = 0):\n",
    "    if ((g(x, 0) - c)*(g(x, 1) - c)) > 0:  # Si on a pas de changement de position par rapport à c\n",
    "        return None\n",
    "    a, b = 0., 1.\n",
    "    while abs(b - a) > esp:  # Theoriquement 26 passages au plus si esp=2**-26\n",
    "        m = (a + b) / 2\n",
    "        if ((g(x, a) - c)*(g(x, m) - c)) <= 0:  # t est dans [a, m]\n",
    "            b = m\n",
    "        else:\n",
    "            a = m\n",
    "    t = (a + b) / 2\n",
    "    return float(t)"
   ]
  },
  {
   "cell_type": "markdown",
   "metadata": {},
   "source": [
    "4. Définissons la fonction **polar_f**"
   ]
  },
  {
   "cell_type": "markdown",
   "metadata": {},
   "source": [
    "Cette fonction sert à transformer un point des coordonnées cartésiennes aux coordonnées polaires selon l'angle pour les calculs dans les fonctions après. \n",
    "- $r$ représente le rayon\n",
    "- $(x_{0}, y_{0})$ représente le point de départ\n",
    "- $\\theta$ est l'angle initial\n",
    "- $sgn$ est déterminer selon les critères que nous expliquerons après"
   ]
  },
  {
   "cell_type": "code",
   "execution_count": 14,
   "metadata": {},
   "outputs": [],
   "source": [
    "def polar_f(func, r, x0, y0, theta, sgn = -1):\n",
    "    return lambda xx, yy: func(x0 + r*math.cos(theta + (sgn * yy)*math.pi), y0 + r*math.sin(theta + (sgn * yy)*math.pi))"
   ]
  },
  {
   "cell_type": "markdown",
   "metadata": {},
   "source": [
    "5. Définissons la fonction **simple_contour**"
   ]
  },
  {
   "cell_type": "markdown",
   "metadata": {},
   "source": [
    "Cette fonction sert à tracer le graphe dans sur le carré $[0, 1]^{2} \\in \\mathbb{R}$\n",
    "\n",
    "L'idée est de partir des frontières du carré, à chaque point nous calculons le gradient, qui donnera deux sens possible du prochain point de la courbe. Le choix dépend très compliquemment de sa position et l'angle donné par le gradient. \n"
   ]
  },
  {
   "cell_type": "code",
   "execution_count": 15,
   "metadata": {},
   "outputs": [],
   "source": [
    "def simple_contour(f, c = 0.0, delta = 0.01):\n",
    "    abscisse = 0.  # Cette variable gère la succession des couches de scan  ##attention il faut à tout prix mettre 0. sous peine d'erreurs incompréhensibles\n",
    "    x, y = [], []\n",
    "    t = find_seed(f, c)  # Le scan se fait simplement avec find_seed sur l'arête supérieure\n",
    "    sgn, sgn2 = -1., 1.\n",
    "\n",
    "    while t == None and abscisse*(abscisse - 1) <= 0: \n",
    "        abscisse += delta\n",
    "        t = find_seed(f, c, x = abscisse)\n",
    "    if abscisse > 1 and t == None:\n",
    "        return x, y\n",
    "    \n",
    "    if abs(f(abscisse, t) - c) <= 2**(-26):  # filtrer les faux résultats\n",
    "        x.append(abscisse)\n",
    "        y.append(t)\n",
    "    else:\n",
    "        return x, y\n",
    "    \n",
    "    tang = grad_f(x[-1], y[-1])\n",
    "    angle = math.atan2(tang[1], tang[0])\n",
    "    \n",
    "    if angle < 0:\n",
    "        sgn = 1 * sgn2\n",
    "    elif angle >= 0:\n",
    "        sgn = -1 * sgn2\n",
    "    \n",
    "    theta = find_seed(polar_f(f, delta, x[-1], y[-1], angle, sgn), c)  # Le scan se fait simplement avec find_seed\n",
    "    if theta != None:\n",
    "        abscisse = x[-1] + delta*math.cos(angle + sgn*theta*math.pi)\n",
    "        t = y[-1] + delta*math.sin(angle + sgn*theta*math.pi)\n",
    "\n",
    "    while abscisse*(abscisse - 1) <= 0 and t*(t - 1) <= 0:\n",
    "        x.append(abscisse)\n",
    "        y.append(t)\n",
    "        tang = grad_f(x[-1], y[-1])\n",
    "        angle = math.atan2(tang[1], tang[0])\n",
    "        theta = find_seed(polar_f(f, delta, x[-1], y[-1], angle, sgn), c)  # Le scan se fait simplement avec find_seed\n",
    "        if theta != None:\n",
    "            abscisse = x[-1] + delta*math.cos(angle + sgn*theta*math.pi)\n",
    "            t = y[-1] + delta*math.sin(angle + sgn*theta*math.pi)\n",
    "        else:\n",
    "            break\n",
    "    return x, y"
   ]
  },
  {
   "cell_type": "markdown",
   "metadata": {},
   "source": [
    "6. Définissons la fonction **complique_contour**"
   ]
  },
  {
   "cell_type": "markdown",
   "metadata": {},
   "source": [
    "Cette fonction sert à tracer le graphe dans tous les segments de la subdivision choisie. "
   ]
  },
  {
   "cell_type": "code",
   "execution_count": 16,
   "metadata": {},
   "outputs": [],
   "source": [
    "def complique_contour(f, Dx, Dy, c = 0, delta = 0.01):\n",
    "    x, y = [], []\n",
    "    for i in  range(len(Dx) - 1):\n",
    "        for j in range(len(Dy) - 1):\n",
    "\n",
    "            def func(m, n):  # changement de point de départ et reformulation pour ronger le domaine de définition \n",
    "                # et le rendre applicable pour la fonction simple_contour\n",
    "                return lambda x, y: f(Dx[m] + x*(Dx[m+1] - Dx[m]), Dy[n] + y*(Dy[n+1] - Dy[n]))\n",
    "\n",
    "            resx, resy = simple_contour(func(i, j), c, delta)\n",
    "            # transposition des coordonnées dans le repère de départ\n",
    "            resx = [Dx[i] + xx*(Dx[i+1] - Dx[i]) for xx in resx]\n",
    "            resy = [Dy[j] + yy*(Dy[j+1] - Dy[j]) for yy in resy]\n",
    "            if resx != None:\n",
    "                x.extend(resx)\n",
    "                y.extend(resy)\n",
    "    return x, y"
   ]
  },
  {
   "cell_type": "markdown",
   "metadata": {},
   "source": [
    "## Ceci est un recueil de résultats obtenus avec cette méthode."
   ]
  },
  {
   "cell_type": "markdown",
   "metadata": {},
   "source": [
    "La fonction à tracer est déjà définie au début de cette méthode. "
   ]
  },
  {
   "cell_type": "markdown",
   "metadata": {},
   "source": [
    "Ensuite, nous divisons le plan à plusieures subdivisions pour tracer:"
   ]
  },
  {
   "cell_type": "code",
   "execution_count": 17,
   "metadata": {},
   "outputs": [],
   "source": [
    "xa = np.arange(-1., 1.1, 0.1)  # diviser le plan\n",
    "ya = np.arange(-1., 1.1, 0.1)"
   ]
  },
  {
   "cell_type": "markdown",
   "metadata": {},
   "source": [
    "Essayer de tracer le graphe: \n",
    "Et afficher le temps utilisé."
   ]
  },
  {
   "cell_type": "code",
   "execution_count": 18,
   "metadata": {},
   "outputs": [
    {
     "data": {
      "image/png": "[encoded data removed]",
      "text/plain": [
       "<Figure size 432x288 with 1 Axes>"
      ]
     },
     "metadata": {
      "needs_background": "light"
     },
     "output_type": "display_data"
    },
    {
     "name": "stdout",
     "output_type": "stream",
     "text": [
      "Time used: 3.21875\n"
     ]
    }
   ],
   "source": [
    "start = time.process_time()  # Calculer le temps utilisé\n",
    "\n",
    "x, y = complique_contour(f, xa, ya, 0.36)\n",
    "\n",
    "plt.scatter(x, y, c = 'blue', s = 2.)\n",
    "\n",
    "elapsed = (time.process_time() - start)  # Calculer le temps utilisé\n",
    "\n",
    "plt.show()  # Afficher l'image\n",
    "\n",
    "print(\"Time used:\",elapsed) "
   ]
  },
  {
   "cell_type": "markdown",
   "metadata": {},
   "source": [
    "## Ceci est un analyse de cette méthode:"
   ]
  },
  {
   "cell_type": "markdown",
   "metadata": {},
   "source": [
    "1. Difficultés rencontrées\n",
    "1. Respect de la consigne\n",
    "1. Possibilités d'amélioration"
   ]
  },
  {
   "cell_type": "code",
   "execution_count": null,
   "metadata": {},
   "outputs": [],
   "source": []
  }
 ],
 "metadata": {
  "kernelspec": {
   "display_name": "Python 3",
   "language": "python",
   "name": "python3"
  },
  "language_info": {
   "codemirror_mode": {
    "name": "ipython",
    "version": 3
   },
   "file_extension": ".py",
   "mimetype": "text/x-python",
   "name": "python",
   "nbconvert_exporter": "python",
   "pygments_lexer": "ipython3",
   "version": "3.7.3"
  }
 },
 "nbformat": 4,
 "nbformat_minor": 2
}
